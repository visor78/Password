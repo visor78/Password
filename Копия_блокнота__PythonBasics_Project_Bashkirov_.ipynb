{
  "nbformat": 4,
  "nbformat_minor": 0,
  "metadata": {
    "colab": {
      "name": "Копия блокнота \"PythonBasics-Project-Bashkirov\"",
      "provenance": [],
      "collapsed_sections": []
    },
    "kernelspec": {
      "name": "python3",
      "display_name": "Python 3"
    }
  },
  "cells": [
    {
      "cell_type": "markdown",
      "metadata": {
        "id": "i4JTu6Lh32ip"
      },
      "source": [
        "# **Проект**"
      ]
    },
    {
      "cell_type": "markdown",
      "metadata": {
        "id": "8M7HETGRu4jo"
      },
      "source": [
        "## Задание на проект"
      ]
    },
    {
      "cell_type": "markdown",
      "metadata": {
        "id": "6Gai9NWdXIaz"
      },
      "source": [
        "**Проект \"Генератор одноразовых паролей\"** (Лев Башкиров)\n",
        "\n",
        "Необходимо создать алгоритм и реализовать программно функцию или метод класса для генерации строки длинной 12 символов, состоящей из 3 строчных символов латинского алфавита, 3 прописных символов латинского алфавита, 3 цифр и 3 специальных символов <code>~!@#$%^&*()_</code>\n"
      ]
    },
    {
      "cell_type": "code",
      "metadata": {
        "id": "gMF3n4uOkrXJ",
        "outputId": "40bff2ff-c905-4224-e1fd-807f3932e95a",
        "colab": {
          "base_uri": "https://localhost:8080/"
        }
      },
      "source": [
        "def password():\n",
        "  import random\n",
        "  lat_caps = [\"A\", \"B\", \"C\", \"D\", \"E\", \"F\", \"G\", \"H\", \"J\", \"K\", \"L\", \"M\", \"N\", \"P\", \"Q\", \"R\", \"S\", \"T\", \"U\", \"V\", 'W', \"X\", \"Y\", \"Z\"]\n",
        "  lat_small = [\"a\", \"b\", \"c\", \"d\", \"e\", \"f\", \"g\", \"h\", \"j\", \"k\", \"m\", \"n\", \"p\", \"q\", \"r\", \"s\", \"t\", \"u\", \"v\", 'w', \"x\", \"y\", \"z\"]\n",
        "  numbers = [\"1\", \"2\", \"3\", \"4\", \"5\", \"6\", \"7\", \"8\", \"9\", \"0\"]\n",
        "  specs = [\"~\", \"!\", \"@\", \"#\", \"$\", \"%\", \"^\", \"&\", \"*\", \"(\",\")\",\"_\"]\n",
        "  password = \"\"\n",
        "  psr = lat_caps+lat_small+numbers+specs\n",
        "  for t in range(12):\n",
        "       i = random.randrange(len(psr)) \n",
        "       password = password + psr[i]\n",
        "       \n",
        "  print(str((password)))\n",
        "password()"
      ],
      "execution_count": 22,
      "outputs": [
        {
          "output_type": "stream",
          "text": [
            "RywF2S6xqMAT\n"
          ],
          "name": "stdout"
        }
      ]
    },
    {
      "cell_type": "markdown",
      "metadata": {
        "id": "Dx8jToStRehz"
      },
      "source": [
        "## Загрузка файлов проекта на GitHub"
      ]
    },
    {
      "cell_type": "markdown",
      "metadata": {
        "id": "PfhK3nbHYfTt"
      },
      "source": [
        "Сохраняем файл с ноутбуком на локальный компьютер, выбрав пункт меню \"Файл -> Скачать IPYNB\".\n",
        "\n",
        "Переходим на сайт [GitHub](https://github.com/). Авторизуемся (Sign In) или создаем аккаунт (Sign Up). С помощью пункта меню \"+ -> New repository\". В появившимся окне указываем имя репозитория (Repository name), публичный тип репозитория (Public) и нажимаем кнопку \"Create repository\".\n",
        "\n",
        "Переходим по ссылке <code>uploading an existing file</code>, появившейся в тексте верхней части окна. Затем переходим по ссылке <code>choose your files</code> и выбераем на локальном компьютере нужный файл. Затем нажимаем на кнопку \"Commit changes\".\n",
        "\n",
        "Все, файлы перенесены на GitHub. Скопируйте ссылку на репозиторий, для этого нажмите на стрелку выпадающего меню рядом с кнопкой \"Code\" и скопируйте текст сслыки вида: <code>https://github.com/ваш_логин/имя_репозитория.git</code>"
      ]
    },
    {
      "cell_type": "markdown",
      "metadata": {
        "id": "uYOkc9ytnAbB"
      },
      "source": [
        "## Настройка запуска блокнота с помощью сервиса MyBinder"
      ]
    },
    {
      "cell_type": "markdown",
      "metadata": {
        "id": "IZDzmU9ynS9i"
      },
      "source": [
        "Перейдите на сайт <a href=\"https://mybinder.org/\">MyBinder</a>. В поле \"GitHub repository name or URL\" укажите адрес вашего репозитория. Нажмите кнопку \"launch\". Будет сгенерирован экземпляр виртуального контейнера, в котором произойдет разворачивание среды Jyputer Notebook и вашего ноутбука. Скопируйте ссылку на ваш виртуальный контейнер."
      ]
    },
    {
      "cell_type": "markdown",
      "metadata": {
        "id": "63YRyCNuoSGY"
      },
      "source": [
        "Перейдите в ваш репозиторий на сайте GitHub и добавьте файл .README с текстом ссылки на виртуальный контейнер, размещенный на MyBinder."
      ]
    }
  ]
}